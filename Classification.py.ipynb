{
 "cells": [
  {
   "cell_type": "markdown",
   "metadata": {},
   "source": [
    "# Predictive Task\n",
    "We will attempt to classify hand written digits from MNIST dataset using Multilayer Perceptron (MLP) Model"
   ]
  },
  {
   "cell_type": "markdown",
   "metadata": {},
   "source": [
    "# Reading Dataset \n",
    "MNIST is already present in tensorflow. We read dataset using one hot encoding"
   ]
  },
  {
   "cell_type": "code",
   "execution_count": 1,
   "metadata": {},
   "outputs": [
    {
     "name": "stdout",
     "output_type": "stream",
     "text": [
      "Successfully downloaded train-images-idx3-ubyte.gz 9912422 bytes.\n",
      "Extracting /tmp/data\\train-images-idx3-ubyte.gz\n",
      "Successfully downloaded train-labels-idx1-ubyte.gz 28881 bytes.\n",
      "Extracting /tmp/data\\train-labels-idx1-ubyte.gz\n",
      "Successfully downloaded t10k-images-idx3-ubyte.gz 1648877 bytes.\n",
      "Extracting /tmp/data\\t10k-images-idx3-ubyte.gz\n",
      "Successfully downloaded t10k-labels-idx1-ubyte.gz 4542 bytes.\n",
      "Extracting /tmp/data\\t10k-labels-idx1-ubyte.gz\n"
     ]
    }
   ],
   "source": [
    "from tensorflow.examples.tutorials.mnist import input_data\n",
    "mnist = input_data.read_data_sets(\"/tmp/data\", one_hot=True )"
   ]
  },
  {
   "cell_type": "markdown",
   "metadata": {},
   "source": [
    "### We can see that the dataset contains -\n",
    "* Train, test and Validation sets\n",
    "* The Training set is made up of images and labels\n",
    "* Images is modelled as a vector of length 784\n",
    "* We see one training X vector\n",
    "* Similarly we can see that the labels are one hot encoded vector of lenght 10 representing each of the 10 possible digits\n",
    "* We see one training y label"
   ]
  },
  {
   "cell_type": "code",
   "execution_count": 13,
   "metadata": {},
   "outputs": [
    {
     "name": "stdout",
     "output_type": "stream",
     "text": [
      "['test', 'train', 'validation']\n",
      "['epochs_completed', 'images', 'labels', 'next_batch', 'num_examples']\n",
      "784\n",
      "[[0. 0. 0. ... 0. 0. 0.]\n",
      " [0. 0. 0. ... 0. 0. 0.]\n",
      " [0. 0. 0. ... 0. 0. 0.]\n",
      " ...\n",
      " [0. 0. 0. ... 0. 0. 0.]\n",
      " [0. 0. 0. ... 0. 0. 0.]\n",
      " [0. 0. 0. ... 0. 0. 0.]]\n",
      "10\n",
      "[0. 0. 0. 0. 0. 0. 0. 1. 0. 0.]\n"
     ]
    }
   ],
   "source": [
    "print( dir( mnist )[-3:] )\n",
    "print( dir( mnist.train )[-5:] )\n",
    "print( len( mnist.train.images[0] ) )\n",
    "print( mnist.train.images[:10 ] )\n",
    "print( len( mnist.train.labels[0] ) )\n",
    "print( mnist.train.labels[0] )"
   ]
  },
  {
   "cell_type": "markdown",
   "metadata": {},
   "source": [
    "### We shall try plotting an input image"
   ]
  },
  {
   "cell_type": "code",
   "execution_count": 14,
   "metadata": {
    "collapsed": true
   },
   "outputs": [],
   "source": [
    "sample_image = mnist.train.images[0].reshape( [ 28, 28 ] )"
   ]
  },
  {
   "cell_type": "code",
   "execution_count": 16,
   "metadata": {},
   "outputs": [
    {
     "data": {
      "text/plain": [
       "<matplotlib.image.AxesImage at 0x163aabf81d0>"
      ]
     },
     "execution_count": 16,
     "metadata": {},
     "output_type": "execute_result"
    },
    {
     "data": {
      "image/png": "[encoded data removed]",
      "text/plain": [
       "<matplotlib.figure.Figure at 0x163aa714470>"
      ]
     },
     "metadata": {},
     "output_type": "display_data"
    }
   ],
   "source": [
    "%matplotlib inline\n",
    "import matplotlib.pyplot as plt\n",
    "plt.gray()\n",
    "plt.imshow( sample_image )"
   ]
  },
  {
   "cell_type": "markdown",
   "metadata": {},
   "source": [
    "# Hyper Parameters\n",
    "Define the configuration for the model"
   ]
  },
  {
   "cell_type": "code",
   "execution_count": 28,
   "metadata": {
    "collapsed": true
   },
   "outputs": [],
   "source": [
    "learning_rate = 0.01\n",
    "num_steps = 100\n",
    "batch_size = 128\n",
    "display_step = 1"
   ]
  },
  {
   "cell_type": "code",
   "execution_count": 18,
   "metadata": {
    "collapsed": true
   },
   "outputs": [],
   "source": [
    "n_hidden_1 = 300\n",
    "n_hidden_2 = 300\n",
    "num_input = 784\n",
    "num_classes = 10"
   ]
  },
  {
   "cell_type": "code",
   "execution_count": 19,
   "metadata": {
    "collapsed": true
   },
   "outputs": [],
   "source": [
    "checkpoint_every = 100\n",
    "checkpoint_dir = './runs/'"
   ]
  },
  {
   "cell_type": "markdown",
   "metadata": {},
   "source": [
    "# Model\n",
    "* Import Tensorflow\n",
    "* Implement Placeholder constraints defining size of input vector and number of label classes"
   ]
  },
  {
   "cell_type": "code",
   "execution_count": 20,
   "metadata": {
    "collapsed": true
   },
   "outputs": [],
   "source": [
    "import tensorflow as tf"
   ]
  },
  {
   "cell_type": "code",
   "execution_count": 21,
   "metadata": {
    "collapsed": true
   },
   "outputs": [],
   "source": [
    "X = tf.placeholder( \"float\", [None, num_input], name=\"input_x\")\n",
    "Y = tf.placeholder( \"float\", [None, num_classes], name=\"input_y\")"
   ]
  },
  {
   "cell_type": "markdown",
   "metadata": {},
   "source": [
    "Initialize the weights and bias vectors with random normal distribution"
   ]
  },
  {
   "cell_type": "code",
   "execution_count": 23,
   "metadata": {
    "collapsed": true
   },
   "outputs": [],
   "source": [
    "weights = \\\n",
    "{\n",
    "    'h1' : tf.Variable( tf.random_normal( [ num_input, n_hidden_1 ] ) ),\n",
    "    'h2' : tf.Variable( tf.random_normal( [ n_hidden_1, n_hidden_2 ] ) ),\n",
    "    'out' : tf.Variable( tf.random_normal( [ n_hidden_2, num_classes ] ) )\n",
    "}"
   ]
  },
  {
   "cell_type": "code",
   "execution_count": 24,
   "metadata": {
    "collapsed": true
   },
   "outputs": [],
   "source": [
    "biases = \\\n",
    "{\n",
    "    'b1' : tf.Variable( tf.random_normal( [ n_hidden_1 ] ) ),\n",
    "    'b2' : tf.Variable( tf.random_normal( [ n_hidden_2 ] ) ),\n",
    "    'out' : tf.Variable( tf.random_normal( [ num_classes ] ) )\n",
    "}"
   ]
  },
  {
   "cell_type": "markdown",
   "metadata": {},
   "source": [
    "Setting up the logistic regression operation"
   ]
  },
  {
   "cell_type": "code",
   "execution_count": 25,
   "metadata": {
    "collapsed": true
   },
   "outputs": [],
   "source": [
    "layer_1 = tf.add( tf.matmul( X, weights['h1'] ), biases['b1'] )\n",
    "layer_2 = tf.add( tf.matmul( layer_1, weights['h2'] ), biases['b2'] )\n",
    "logits = tf.add( tf.matmul( layer_2, weights['out'] ), biases['out'] )"
   ]
  },
  {
   "cell_type": "markdown",
   "metadata": {},
   "source": [
    "Convert the logistic values into probabilistic values. Thus, output values will be between zero and one."
   ]
  },
  {
   "cell_type": "code",
   "execution_count": 32,
   "metadata": {
    "collapsed": true
   },
   "outputs": [],
   "source": [
    "prediction = tf.nn.softmax( logits, name='prediction' )"
   ]
  },
  {
   "cell_type": "markdown",
   "metadata": {},
   "source": [
    "* Cost function is cross entropy with logits\n",
    "* Optimizer is Adam Optimizer\n",
    "* It will use the minimuze function to come up with the SGD update rule for parameters"
   ]
  },
  {
   "cell_type": "code",
   "execution_count": 33,
   "metadata": {
    "collapsed": true
   },
   "outputs": [],
   "source": [
    "loss_op = tf.reduce_mean( tf.nn.softmax_cross_entropy_with_logits_v2( logits = logits, labels = Y ) )\n",
    "optimizer = tf.train.AdamOptimizer( learning_rate = learning_rate )\n",
    "train_op = optimizer.minimize( loss_op )"
   ]
  },
  {
   "cell_type": "markdown",
   "metadata": {},
   "source": [
    "Now we make the predictions and check for accuracy"
   ]
  },
  {
   "cell_type": "code",
   "execution_count": 34,
   "metadata": {
    "collapsed": true
   },
   "outputs": [],
   "source": [
    "correct_pred = tf.equal( tf.argmax( prediction, 1 ), tf.argmax( Y, 1 ) )\n",
    "accuracy = tf.reduce_mean( tf.cast( correct_pred, tf.float32 ) )"
   ]
  },
  {
   "cell_type": "markdown",
   "metadata": {},
   "source": [
    "# Training\n",
    "* Set up a checkpoint directory to record the intermediate results\n",
    "* Create a tensorflow session\n",
    "* Feed appropriate values to the model and train"
   ]
  },
  {
   "cell_type": "code",
   "execution_count": 35,
   "metadata": {
    "collapsed": true
   },
   "outputs": [],
   "source": [
    "import os\n",
    "checkpoint_dir = os.path.abspath( os.path.join( checkpoint_dir, \"checkpoints\") )\n",
    "checkpoint_prefix = os.path.join( checkpoint_dir, \"model\" )\n",
    "if not os.path.exists( checkpoint_dir ):\n",
    "    os.makedirs( checkpoint_dir )"
   ]
  },
  {
   "cell_type": "code",
   "execution_count": 51,
   "metadata": {
    "collapsed": true
   },
   "outputs": [],
   "source": [
    "saver = tf.train.Saver( tf.global_variables(), max_to_keep = 2 )\n",
    "init = tf.global_variables_initializer()\n",
    "all_loss = []\n",
    "preds = []"
   ]
  },
  {
   "cell_type": "code",
   "execution_count": 73,
   "metadata": {},
   "outputs": [
    {
     "name": "stdout",
     "output_type": "stream",
     "text": [
      "Step 1, Minibatch Loss = 2201.3198, Training Accuracy = 0.289\n",
      "Step 2, Minibatch Loss = 1854.9180, Training Accuracy = 0.305\n",
      "Step 3, Minibatch Loss = 1104.8843, Training Accuracy = 0.461\n",
      "Step 4, Minibatch Loss = 750.2520, Training Accuracy = 0.539\n",
      "Step 5, Minibatch Loss = 760.5498, Training Accuracy = 0.578\n",
      "Step 6, Minibatch Loss = 754.6323, Training Accuracy = 0.656\n",
      "Step 7, Minibatch Loss = 854.0834, Training Accuracy = 0.633\n",
      "Step 8, Minibatch Loss = 655.5831, Training Accuracy = 0.688\n",
      "Step 9, Minibatch Loss = 764.5542, Training Accuracy = 0.609\n",
      "Step 10, Minibatch Loss = 388.5724, Training Accuracy = 0.734\n",
      "Step 11, Minibatch Loss = 652.9672, Training Accuracy = 0.695\n",
      "Step 12, Minibatch Loss = 406.4876, Training Accuracy = 0.766\n",
      "Step 13, Minibatch Loss = 353.7976, Training Accuracy = 0.789\n",
      "Step 14, Minibatch Loss = 483.9919, Training Accuracy = 0.750\n",
      "Step 15, Minibatch Loss = 484.1235, Training Accuracy = 0.820\n",
      "Step 16, Minibatch Loss = 586.9910, Training Accuracy = 0.805\n",
      "Step 17, Minibatch Loss = 447.1546, Training Accuracy = 0.773\n",
      "Step 18, Minibatch Loss = 281.2580, Training Accuracy = 0.820\n",
      "Step 19, Minibatch Loss = 386.5773, Training Accuracy = 0.836\n",
      "Step 20, Minibatch Loss = 352.6227, Training Accuracy = 0.844\n",
      "Step 21, Minibatch Loss = 371.3914, Training Accuracy = 0.805\n",
      "Step 22, Minibatch Loss = 171.8738, Training Accuracy = 0.883\n",
      "Step 23, Minibatch Loss = 619.0360, Training Accuracy = 0.742\n",
      "Step 24, Minibatch Loss = 444.2836, Training Accuracy = 0.828\n",
      "Step 25, Minibatch Loss = 281.7404, Training Accuracy = 0.852\n",
      "Step 26, Minibatch Loss = 390.9106, Training Accuracy = 0.828\n",
      "Step 27, Minibatch Loss = 224.7225, Training Accuracy = 0.922\n",
      "Step 28, Minibatch Loss = 337.5345, Training Accuracy = 0.859\n",
      "Step 29, Minibatch Loss = 463.1115, Training Accuracy = 0.820\n",
      "Step 30, Minibatch Loss = 344.3619, Training Accuracy = 0.828\n",
      "Step 31, Minibatch Loss = 386.7731, Training Accuracy = 0.828\n",
      "Step 32, Minibatch Loss = 294.6374, Training Accuracy = 0.812\n",
      "Step 33, Minibatch Loss = 236.9759, Training Accuracy = 0.859\n",
      "Step 34, Minibatch Loss = 328.0594, Training Accuracy = 0.852\n",
      "Step 35, Minibatch Loss = 231.8017, Training Accuracy = 0.867\n",
      "Step 36, Minibatch Loss = 430.9589, Training Accuracy = 0.820\n",
      "Step 37, Minibatch Loss = 324.5356, Training Accuracy = 0.852\n",
      "Step 38, Minibatch Loss = 250.3976, Training Accuracy = 0.883\n",
      "Step 39, Minibatch Loss = 234.6778, Training Accuracy = 0.844\n",
      "Step 40, Minibatch Loss = 213.7530, Training Accuracy = 0.883\n",
      "Step 41, Minibatch Loss = 285.7586, Training Accuracy = 0.828\n",
      "Step 42, Minibatch Loss = 252.4404, Training Accuracy = 0.836\n",
      "Step 43, Minibatch Loss = 275.8797, Training Accuracy = 0.867\n",
      "Step 44, Minibatch Loss = 322.5737, Training Accuracy = 0.867\n",
      "Step 45, Minibatch Loss = 393.3573, Training Accuracy = 0.820\n",
      "Step 46, Minibatch Loss = 236.0529, Training Accuracy = 0.859\n",
      "Step 47, Minibatch Loss = 111.8928, Training Accuracy = 0.875\n",
      "Step 48, Minibatch Loss = 173.6409, Training Accuracy = 0.875\n",
      "Step 49, Minibatch Loss = 210.4369, Training Accuracy = 0.859\n",
      "Step 50, Minibatch Loss = 428.2581, Training Accuracy = 0.828\n",
      "Step 51, Minibatch Loss = 81.5403, Training Accuracy = 0.938\n",
      "Step 52, Minibatch Loss = 233.3830, Training Accuracy = 0.844\n",
      "Step 53, Minibatch Loss = 196.8949, Training Accuracy = 0.867\n",
      "Step 54, Minibatch Loss = 333.8497, Training Accuracy = 0.883\n",
      "Step 55, Minibatch Loss = 164.8680, Training Accuracy = 0.875\n",
      "Step 56, Minibatch Loss = 186.8857, Training Accuracy = 0.883\n",
      "Step 57, Minibatch Loss = 181.2745, Training Accuracy = 0.844\n",
      "Step 58, Minibatch Loss = 142.8944, Training Accuracy = 0.914\n",
      "Step 59, Minibatch Loss = 351.5377, Training Accuracy = 0.828\n",
      "Step 60, Minibatch Loss = 231.6426, Training Accuracy = 0.867\n",
      "Step 61, Minibatch Loss = 396.9541, Training Accuracy = 0.781\n",
      "Step 62, Minibatch Loss = 360.0531, Training Accuracy = 0.805\n",
      "Step 63, Minibatch Loss = 207.0840, Training Accuracy = 0.867\n",
      "Step 64, Minibatch Loss = 184.1964, Training Accuracy = 0.922\n",
      "Step 65, Minibatch Loss = 198.3722, Training Accuracy = 0.898\n",
      "Step 66, Minibatch Loss = 132.9795, Training Accuracy = 0.859\n",
      "Step 67, Minibatch Loss = 206.7761, Training Accuracy = 0.875\n",
      "Step 68, Minibatch Loss = 276.1614, Training Accuracy = 0.898\n",
      "Step 69, Minibatch Loss = 92.4745, Training Accuracy = 0.891\n",
      "Step 70, Minibatch Loss = 273.7673, Training Accuracy = 0.828\n",
      "Step 71, Minibatch Loss = 241.6744, Training Accuracy = 0.867\n",
      "Step 72, Minibatch Loss = 208.9292, Training Accuracy = 0.883\n",
      "Step 73, Minibatch Loss = 319.4623, Training Accuracy = 0.836\n",
      "Step 74, Minibatch Loss = 209.5978, Training Accuracy = 0.836\n",
      "Step 75, Minibatch Loss = 138.2484, Training Accuracy = 0.898\n",
      "Step 76, Minibatch Loss = 228.9917, Training Accuracy = 0.836\n",
      "Step 77, Minibatch Loss = 134.1520, Training Accuracy = 0.898\n",
      "Step 78, Minibatch Loss = 234.7521, Training Accuracy = 0.844\n",
      "Step 79, Minibatch Loss = 306.6533, Training Accuracy = 0.844\n",
      "Step 80, Minibatch Loss = 147.2573, Training Accuracy = 0.883\n",
      "Step 81, Minibatch Loss = 97.5287, Training Accuracy = 0.891\n",
      "Step 82, Minibatch Loss = 124.6172, Training Accuracy = 0.859\n",
      "Step 83, Minibatch Loss = 198.8545, Training Accuracy = 0.867\n",
      "Step 84, Minibatch Loss = 190.4260, Training Accuracy = 0.867\n",
      "Step 85, Minibatch Loss = 246.2054, Training Accuracy = 0.891\n",
      "Step 86, Minibatch Loss = 210.0052, Training Accuracy = 0.898\n",
      "Step 87, Minibatch Loss = 257.4258, Training Accuracy = 0.875\n",
      "Step 88, Minibatch Loss = 162.4261, Training Accuracy = 0.891\n",
      "Step 89, Minibatch Loss = 196.4204, Training Accuracy = 0.875\n",
      "Step 90, Minibatch Loss = 124.7415, Training Accuracy = 0.914\n",
      "Step 91, Minibatch Loss = 343.6855, Training Accuracy = 0.836\n",
      "Step 92, Minibatch Loss = 173.8289, Training Accuracy = 0.914\n",
      "Step 93, Minibatch Loss = 113.9456, Training Accuracy = 0.875\n",
      "Step 94, Minibatch Loss = 22.4406, Training Accuracy = 0.922\n",
      "Step 95, Minibatch Loss = 215.0768, Training Accuracy = 0.836\n",
      "Step 96, Minibatch Loss = 163.8151, Training Accuracy = 0.844\n",
      "Step 97, Minibatch Loss = 313.3386, Training Accuracy = 0.859\n",
      "Step 98, Minibatch Loss = 163.8189, Training Accuracy = 0.898\n",
      "Step 99, Minibatch Loss = 113.6117, Training Accuracy = 0.906\n",
      "Step 100, Minibatch Loss = 127.2878, Training Accuracy = 0.898\n",
      "Optimization Finished \n",
      "Testing Accuracy: 0.8761\n"
     ]
    }
   ],
   "source": [
    "with tf.Session() as sess:\n",
    "    writer_1 = tf.summary.FileWriter( \"./runs/summary\", sess.graph )\n",
    "    sum_var = tf.summary.scalar( \"loss\", accuracy )\n",
    "    write_op = tf.summary.merge_all()\n",
    "    \n",
    "    sess.run( init )\n",
    "    \n",
    "    for step in range( 1, num_steps + 1 ):\n",
    "        batch_x, batch_y = mnist.train.next_batch( batch_size )\n",
    "        sess.run( train_op, feed_dict = { X : batch_x, Y : batch_y } )\n",
    "        if step % display_step == 0 or step == 1:\n",
    "            loss, acc, summary = sess.run( [ loss_op, accuracy, write_op ], feed_dict = { X : batch_x, Y : batch_y } )\n",
    "            all_loss.append( loss )\n",
    "            writer_1.add_summary( summary, step )\n",
    "            print( \"Step \" + str( step ) + \", Minibatch Loss = \" + \\\n",
    "                 \"{:.4f}\".format( loss ) + \", Training Accuracy = \" + \\\n",
    "                 \"{:.3f}\".format( acc ) )\n",
    "        \n",
    "        if step % checkpoint_every == 0:\n",
    "            path = saver.save( sess, checkpoint_prefix, global_step = step )\n",
    "            \n",
    "    print( \"Optimization Finished \" )\n",
    "    \n",
    "    print( \"Testing Accuracy:\",\\\n",
    "          sess.run( accuracy, feed_dict = { X : mnist.test.images, Y : mnist.test.labels } ) )\n",
    "    \n",
    "    for p in sess.run( prediction, feed_dict={ X: mnist.test.images[ :24 ] } ):\n",
    "        preds.append( p.tolist().index( float(1) ) )\n",
    "            "
   ]
  },
  {
   "cell_type": "markdown",
   "metadata": {},
   "source": [
    "# Notes\n",
    "* We see that training loss decreases overall as steps increase.\n",
    "* In this case, we can improve regularization using L1 or L2 norms at layers L1 or L2.\n",
    "* Additionally, we can now use the saver to train from the model checkpoint and use it to test on the test data"
   ]
  },
  {
   "cell_type": "markdown",
   "metadata": {},
   "source": [
    "# Interpreting Results\n",
    "Compare labels to predictions from MLP model"
   ]
  },
  {
   "cell_type": "code",
   "execution_count": 78,
   "metadata": {},
   "outputs": [
    {
     "data": {
      "image/png": "[encoded data removed]",
      "text/plain": [
       "<matplotlib.figure.Figure at 0x163c2268278>"
      ]
     },
     "metadata": {},
     "output_type": "display_data"
    }
   ],
   "source": [
    "#https://stackoverflow.com/questions/37228371/visualize-mnist-dataset-using-opencv-or-matplotlib-pyplot\n",
    "import numpy as np\n",
    "amount = 24\n",
    "lines = 4\n",
    "columns = 6\n",
    "image = np.zeros((amount, 28, 28))\n",
    "number = np.zeros(amount)\n",
    "\n",
    "for i in range(amount):\n",
    "    image[i] = mnist.test.images[ i ].reshape(28, 28)\n",
    "    number[i] = preds[ i ]\n",
    "\n",
    "fig = plt.figure()\n",
    "\n",
    "for i in range(amount):\n",
    "    ax = fig.add_subplot(lines, columns, 1 + i)\n",
    "    plt.imshow(image[i], cmap='binary')\n",
    "    plt.sca(ax)\n",
    "\n",
    "plt.xlabel(number)\n",
    "plt.show()"
   ]
  },
  {
   "cell_type": "markdown",
   "metadata": {},
   "source": [
    "References\n",
    "\n",
    "https://github.com/PacktPublishing/Python-Deep-Learning"
   ]
  },
  {
   "cell_type": "code",
   "execution_count": null,
   "metadata": {
    "collapsed": true
   },
   "outputs": [],
   "source": []
  }
 ],
 "metadata": {
  "kernelspec": {
   "display_name": "Python 3",
   "language": "python",
   "name": "python3"
  },
  "language_info": {
   "codemirror_mode": {
    "name": "ipython",
    "version": 3
   },
   "file_extension": ".py",
   "mimetype": "text/x-python",
   "name": "python",
   "nbconvert_exporter": "python",
   "pygments_lexer": "ipython3",
   "version": "3.6.3"
  }
 },
 "nbformat": 4,
 "nbformat_minor": 2
}
